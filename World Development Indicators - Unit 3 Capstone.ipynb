{
 "cells": [
  {
   "cell_type": "markdown",
   "metadata": {},
   "source": [
    "# World Development Indicators and PISA Scores\n",
    "## Is it possible to predict the scholastic performance of countries based on socio-economic indicators?  What happens to scholastic performance as we start to factor in world development indicators such as:\n",
    "* Gender Equality\n",
    "* Population\n",
    "* Literacy\n",
    "* Unemployment\n",
    "* Industry"
   ]
  },
  {
   "cell_type": "code",
   "execution_count": 6,
   "metadata": {},
   "outputs": [],
   "source": [
    "import pandas as pd\n",
    "import numpy as np\n",
    "import matplotlib.pyplot as plt\n",
    "import seaborn as sns\n",
    "import scipy as sp\n",
    "import random\n",
    "import re\n",
    "import textwrap\n",
    "import warnings\n",
    "warnings.filterwarnings('ignore')"
   ]
  },
  {
   "cell_type": "markdown",
   "metadata": {},
   "source": [
    "### World Development Indicators\n",
    "#### We will begin by importing the data from the World Development Indicators dataset in Kaggle.  These data files contain various economic indicators from many countries around the world.  Some of the indicators you will see are:\n",
    "* Age\n",
    "* Population\n",
    "* Gender\n",
    "* Imports & Exports"
   ]
  },
  {
   "cell_type": "code",
   "execution_count": 7,
   "metadata": {},
   "outputs": [],
   "source": [
    "Country = pd.read_csv('Country.csv')\n",
    "CountryNotes = pd.read_csv('CountryNotes.csv')\n",
    "Footnotes = pd.read_csv('Footnotes.csv')\n",
    "Indicators = pd.read_csv('Indicators.csv')\n",
    "Series = pd.read_csv('Series.csv')\n",
    "SeriesNotes = pd.read_csv('SeriesNotes.csv')"
   ]
  },
  {
   "cell_type": "markdown",
   "metadata": {},
   "source": [
    "### PISA Scores\n",
    "#### The Programme for International Student Assessment, better known as PISA, is a worldwide study with the intent to evaluate education systems.  The study is done by the Organization for Economic Cooperation and Development (OECD) in member and non-member nations.   The evaluation is assesed by measuring the performance of 15 year old school students in the subjects of math, science, and reading.\n",
    "#### The data used in this project brings in the PISA scores for 2013 to 2015."
   ]
  },
  {
   "cell_type": "code",
   "execution_count": 5,
   "metadata": {},
   "outputs": [],
   "source": [
    "PISADefinitions = pd.read_csv('pisa-scores-2015-3/PISADefinitions.csv')\n",
    "PISAData = pd.read_csv('pisa-scores-2015-3/PISAData.csv')"
   ]
  },
  {
   "cell_type": "code",
   "execution_count": null,
   "metadata": {},
   "outputs": [],
   "source": []
  },
  {
   "cell_type": "code",
   "execution_count": null,
   "metadata": {},
   "outputs": [],
   "source": []
  }
 ],
 "metadata": {
  "kernelspec": {
   "display_name": "Python 3",
   "language": "python",
   "name": "python3"
  },
  "language_info": {
   "codemirror_mode": {
    "name": "ipython",
    "version": 3
   },
   "file_extension": ".py",
   "mimetype": "text/x-python",
   "name": "python",
   "nbconvert_exporter": "python",
   "pygments_lexer": "ipython3",
   "version": "3.7.0"
  }
 },
 "nbformat": 4,
 "nbformat_minor": 2
}
